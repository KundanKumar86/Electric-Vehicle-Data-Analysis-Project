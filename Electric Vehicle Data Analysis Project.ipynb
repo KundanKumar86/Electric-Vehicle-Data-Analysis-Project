{
 "cells": [
  {
   "cell_type": "code",
   "execution_count": 1,
   "id": "6a0be0a5-178a-4c0d-a4a8-e745c407dcb0",
   "metadata": {},
   "outputs": [],
   "source": [
    "import numpy as np\n",
    "import pandas as pd\n",
    "import matplotlib.pyplot as plt\n",
    "import seaborn as sns"
   ]
  },
  {
   "cell_type": "code",
   "execution_count": 2,
   "id": "655772f5-2937-4c48-bc91-f8790653edec",
   "metadata": {},
   "outputs": [],
   "source": [
    "data = pd.read_csv(r\"FEV.CSV\")"
   ]
  },
  {
   "cell_type": "code",
   "execution_count": 3,
   "id": "a3e53f30-71ec-44c6-9449-36407c096c69",
   "metadata": {},
   "outputs": [],
   "source": [
    "df = data.copy()"
   ]
  },
  {
   "cell_type": "code",
   "execution_count": 4,
   "id": "69984616-2bd7-4366-9ffe-640eaf7617d3",
   "metadata": {},
   "outputs": [
    {
     "data": {
      "text/html": [
       "<div>\n",
       "<style scoped>\n",
       "    .dataframe tbody tr th:only-of-type {\n",
       "        vertical-align: middle;\n",
       "    }\n",
       "\n",
       "    .dataframe tbody tr th {\n",
       "        vertical-align: top;\n",
       "    }\n",
       "\n",
       "    .dataframe thead th {\n",
       "        text-align: right;\n",
       "    }\n",
       "</style>\n",
       "<table border=\"1\" class=\"dataframe\">\n",
       "  <thead>\n",
       "    <tr style=\"text-align: right;\">\n",
       "      <th></th>\n",
       "      <th>Car full name</th>\n",
       "      <th>Make</th>\n",
       "      <th>Model</th>\n",
       "      <th>Minimal price (gross) [PLN]</th>\n",
       "      <th>Engine power [KM]</th>\n",
       "      <th>Maximum torque [Nm]</th>\n",
       "      <th>Type of brakes</th>\n",
       "      <th>Drive type</th>\n",
       "      <th>Battery capacity [kWh]</th>\n",
       "      <th>Range (WLTP) [km]</th>\n",
       "      <th>...</th>\n",
       "      <th>Permissable gross weight [kg]</th>\n",
       "      <th>Maximum load capacity [kg]</th>\n",
       "      <th>Number of seats</th>\n",
       "      <th>Number of doors</th>\n",
       "      <th>Tire size [in]</th>\n",
       "      <th>Maximum speed [kph]</th>\n",
       "      <th>Boot capacity (VDA) [l]</th>\n",
       "      <th>Acceleration 0-100 kph [s]</th>\n",
       "      <th>Maximum DC charging power [kW]</th>\n",
       "      <th>mean - Energy consumption [kWh/100 km]</th>\n",
       "    </tr>\n",
       "  </thead>\n",
       "  <tbody>\n",
       "    <tr>\n",
       "      <th>0</th>\n",
       "      <td>Audi e-tron 55 quattro</td>\n",
       "      <td>Audi</td>\n",
       "      <td>e-tron 55 quattro</td>\n",
       "      <td>345700</td>\n",
       "      <td>360</td>\n",
       "      <td>664</td>\n",
       "      <td>disc (front + rear)</td>\n",
       "      <td>4WD</td>\n",
       "      <td>95.0</td>\n",
       "      <td>438</td>\n",
       "      <td>...</td>\n",
       "      <td>3130.0</td>\n",
       "      <td>640.0</td>\n",
       "      <td>5</td>\n",
       "      <td>5</td>\n",
       "      <td>19</td>\n",
       "      <td>200</td>\n",
       "      <td>660.0</td>\n",
       "      <td>5.7</td>\n",
       "      <td>150</td>\n",
       "      <td>24.45</td>\n",
       "    </tr>\n",
       "    <tr>\n",
       "      <th>1</th>\n",
       "      <td>Audi e-tron 50 quattro</td>\n",
       "      <td>Audi</td>\n",
       "      <td>e-tron 50 quattro</td>\n",
       "      <td>308400</td>\n",
       "      <td>313</td>\n",
       "      <td>540</td>\n",
       "      <td>disc (front + rear)</td>\n",
       "      <td>4WD</td>\n",
       "      <td>71.0</td>\n",
       "      <td>340</td>\n",
       "      <td>...</td>\n",
       "      <td>3040.0</td>\n",
       "      <td>670.0</td>\n",
       "      <td>5</td>\n",
       "      <td>5</td>\n",
       "      <td>19</td>\n",
       "      <td>190</td>\n",
       "      <td>660.0</td>\n",
       "      <td>6.8</td>\n",
       "      <td>150</td>\n",
       "      <td>23.80</td>\n",
       "    </tr>\n",
       "    <tr>\n",
       "      <th>2</th>\n",
       "      <td>Audi e-tron S quattro</td>\n",
       "      <td>Audi</td>\n",
       "      <td>e-tron S quattro</td>\n",
       "      <td>414900</td>\n",
       "      <td>503</td>\n",
       "      <td>973</td>\n",
       "      <td>disc (front + rear)</td>\n",
       "      <td>4WD</td>\n",
       "      <td>95.0</td>\n",
       "      <td>364</td>\n",
       "      <td>...</td>\n",
       "      <td>3130.0</td>\n",
       "      <td>565.0</td>\n",
       "      <td>5</td>\n",
       "      <td>5</td>\n",
       "      <td>20</td>\n",
       "      <td>210</td>\n",
       "      <td>660.0</td>\n",
       "      <td>4.5</td>\n",
       "      <td>150</td>\n",
       "      <td>27.55</td>\n",
       "    </tr>\n",
       "    <tr>\n",
       "      <th>3</th>\n",
       "      <td>Audi e-tron Sportback 50 quattro</td>\n",
       "      <td>Audi</td>\n",
       "      <td>e-tron Sportback 50 quattro</td>\n",
       "      <td>319700</td>\n",
       "      <td>313</td>\n",
       "      <td>540</td>\n",
       "      <td>disc (front + rear)</td>\n",
       "      <td>4WD</td>\n",
       "      <td>71.0</td>\n",
       "      <td>346</td>\n",
       "      <td>...</td>\n",
       "      <td>3040.0</td>\n",
       "      <td>640.0</td>\n",
       "      <td>5</td>\n",
       "      <td>5</td>\n",
       "      <td>19</td>\n",
       "      <td>190</td>\n",
       "      <td>615.0</td>\n",
       "      <td>6.8</td>\n",
       "      <td>150</td>\n",
       "      <td>23.30</td>\n",
       "    </tr>\n",
       "    <tr>\n",
       "      <th>4</th>\n",
       "      <td>Audi e-tron Sportback 55 quattro</td>\n",
       "      <td>Audi</td>\n",
       "      <td>e-tron Sportback 55 quattro</td>\n",
       "      <td>357000</td>\n",
       "      <td>360</td>\n",
       "      <td>664</td>\n",
       "      <td>disc (front + rear)</td>\n",
       "      <td>4WD</td>\n",
       "      <td>95.0</td>\n",
       "      <td>447</td>\n",
       "      <td>...</td>\n",
       "      <td>3130.0</td>\n",
       "      <td>670.0</td>\n",
       "      <td>5</td>\n",
       "      <td>5</td>\n",
       "      <td>19</td>\n",
       "      <td>200</td>\n",
       "      <td>615.0</td>\n",
       "      <td>5.7</td>\n",
       "      <td>150</td>\n",
       "      <td>23.85</td>\n",
       "    </tr>\n",
       "  </tbody>\n",
       "</table>\n",
       "<p>5 rows × 25 columns</p>\n",
       "</div>"
      ],
      "text/plain": [
       "                      Car full name  Make                        Model  \\\n",
       "0            Audi e-tron 55 quattro  Audi            e-tron 55 quattro   \n",
       "1            Audi e-tron 50 quattro  Audi            e-tron 50 quattro   \n",
       "2             Audi e-tron S quattro  Audi             e-tron S quattro   \n",
       "3  Audi e-tron Sportback 50 quattro  Audi  e-tron Sportback 50 quattro   \n",
       "4  Audi e-tron Sportback 55 quattro  Audi  e-tron Sportback 55 quattro   \n",
       "\n",
       "   Minimal price (gross) [PLN]  Engine power [KM]  Maximum torque [Nm]  \\\n",
       "0                       345700                360                  664   \n",
       "1                       308400                313                  540   \n",
       "2                       414900                503                  973   \n",
       "3                       319700                313                  540   \n",
       "4                       357000                360                  664   \n",
       "\n",
       "        Type of brakes Drive type  Battery capacity [kWh]  Range (WLTP) [km]  \\\n",
       "0  disc (front + rear)        4WD                    95.0                438   \n",
       "1  disc (front + rear)        4WD                    71.0                340   \n",
       "2  disc (front + rear)        4WD                    95.0                364   \n",
       "3  disc (front + rear)        4WD                    71.0                346   \n",
       "4  disc (front + rear)        4WD                    95.0                447   \n",
       "\n",
       "   ...  Permissable gross weight [kg]  Maximum load capacity [kg]  \\\n",
       "0  ...                         3130.0                       640.0   \n",
       "1  ...                         3040.0                       670.0   \n",
       "2  ...                         3130.0                       565.0   \n",
       "3  ...                         3040.0                       640.0   \n",
       "4  ...                         3130.0                       670.0   \n",
       "\n",
       "   Number of seats  Number of doors  Tire size [in]  Maximum speed [kph]  \\\n",
       "0                5                5              19                  200   \n",
       "1                5                5              19                  190   \n",
       "2                5                5              20                  210   \n",
       "3                5                5              19                  190   \n",
       "4                5                5              19                  200   \n",
       "\n",
       "   Boot capacity (VDA) [l]  Acceleration 0-100 kph [s]  \\\n",
       "0                    660.0                         5.7   \n",
       "1                    660.0                         6.8   \n",
       "2                    660.0                         4.5   \n",
       "3                    615.0                         6.8   \n",
       "4                    615.0                         5.7   \n",
       "\n",
       "   Maximum DC charging power [kW]  mean - Energy consumption [kWh/100 km]  \n",
       "0                             150                                   24.45  \n",
       "1                             150                                   23.80  \n",
       "2                             150                                   27.55  \n",
       "3                             150                                   23.30  \n",
       "4                             150                                   23.85  \n",
       "\n",
       "[5 rows x 25 columns]"
      ]
     },
     "execution_count": 4,
     "metadata": {},
     "output_type": "execute_result"
    }
   ],
   "source": [
    "df.head()"
   ]
  },
  {
   "cell_type": "code",
   "execution_count": 5,
   "id": "031bab7a-cf62-497a-91b5-a78d5d55da70",
   "metadata": {},
   "outputs": [
    {
     "name": "stdout",
     "output_type": "stream",
     "text": [
      "<class 'pandas.core.frame.DataFrame'>\n",
      "RangeIndex: 53 entries, 0 to 52\n",
      "Data columns (total 25 columns):\n",
      " #   Column                                  Non-Null Count  Dtype  \n",
      "---  ------                                  --------------  -----  \n",
      " 0   Car full name                           53 non-null     object \n",
      " 1   Make                                    53 non-null     object \n",
      " 2   Model                                   53 non-null     object \n",
      " 3   Minimal price (gross) [PLN]             53 non-null     int64  \n",
      " 4   Engine power [KM]                       53 non-null     int64  \n",
      " 5   Maximum torque [Nm]                     53 non-null     int64  \n",
      " 6   Type of brakes                          52 non-null     object \n",
      " 7   Drive type                              53 non-null     object \n",
      " 8   Battery capacity [kWh]                  53 non-null     float64\n",
      " 9   Range (WLTP) [km]                       53 non-null     int64  \n",
      " 10  Wheelbase [cm]                          53 non-null     float64\n",
      " 11  Length [cm]                             53 non-null     float64\n",
      " 12  Width [cm]                              53 non-null     float64\n",
      " 13  Height [cm]                             53 non-null     float64\n",
      " 14  Minimal empty weight [kg]               53 non-null     int64  \n",
      " 15  Permissable gross weight [kg]           45 non-null     float64\n",
      " 16  Maximum load capacity [kg]              45 non-null     float64\n",
      " 17  Number of seats                         53 non-null     int64  \n",
      " 18  Number of doors                         53 non-null     int64  \n",
      " 19  Tire size [in]                          53 non-null     int64  \n",
      " 20  Maximum speed [kph]                     53 non-null     int64  \n",
      " 21  Boot capacity (VDA) [l]                 52 non-null     float64\n",
      " 22  Acceleration 0-100 kph [s]              50 non-null     float64\n",
      " 23  Maximum DC charging power [kW]          53 non-null     int64  \n",
      " 24  mean - Energy consumption [kWh/100 km]  44 non-null     float64\n",
      "dtypes: float64(10), int64(10), object(5)\n",
      "memory usage: 10.5+ KB\n"
     ]
    }
   ],
   "source": [
    "## here we find the information of the data set\n",
    "df.info()"
   ]
  },
  {
   "cell_type": "code",
   "execution_count": 6,
   "id": "e231a7de-6e20-4b2d-8356-97f671f5a692",
   "metadata": {},
   "outputs": [
    {
     "data": {
      "text/plain": [
       "Car full name                             0\n",
       "Make                                      0\n",
       "Model                                     0\n",
       "Minimal price (gross) [PLN]               0\n",
       "Engine power [KM]                         0\n",
       "Maximum torque [Nm]                       0\n",
       "Type of brakes                            1\n",
       "Drive type                                0\n",
       "Battery capacity [kWh]                    0\n",
       "Range (WLTP) [km]                         0\n",
       "Wheelbase [cm]                            0\n",
       "Length [cm]                               0\n",
       "Width [cm]                                0\n",
       "Height [cm]                               0\n",
       "Minimal empty weight [kg]                 0\n",
       "Permissable gross weight [kg]             8\n",
       "Maximum load capacity [kg]                8\n",
       "Number of seats                           0\n",
       "Number of doors                           0\n",
       "Tire size [in]                            0\n",
       "Maximum speed [kph]                       0\n",
       "Boot capacity (VDA) [l]                   1\n",
       "Acceleration 0-100 kph [s]                3\n",
       "Maximum DC charging power [kW]            0\n",
       "mean - Energy consumption [kWh/100 km]    9\n",
       "dtype: int64"
      ]
     },
     "execution_count": 6,
     "metadata": {},
     "output_type": "execute_result"
    }
   ],
   "source": [
    "## here we check the null value.\n",
    "df.isnull().sum()"
   ]
  },
  {
   "cell_type": "markdown",
   "id": "973190bb-1e67-441b-8948-3cd06339cb0c",
   "metadata": {},
   "source": [
    "## Task 1: A customer has a budget of 350,000 PLN and wants an EV with a minimum range of 400 km.\n"
   ]
  },
  {
   "cell_type": "code",
   "execution_count": 8,
   "id": "ebdab73e-0761-4e6e-af24-4741b81ce55a",
   "metadata": {},
   "outputs": [
    {
     "name": "stdout",
     "output_type": "stream",
     "text": [
      "Filtered EVs by Budget and Range:\n",
      "             Make                        Model  Minimal price (gross) [PLN]  \\\n",
      "0            Audi            e-tron 55 quattro                       345700   \n",
      "8             BMW                          iX3                       282900   \n",
      "15        Hyundai          Kona electric 64kWh                       178400   \n",
      "18            Kia                 e-Niro 64kWh                       167990   \n",
      "20            Kia                 e-Soul 64kWh                       160990   \n",
      "22  Mercedes-Benz                          EQC                       334700   \n",
      "39          Tesla  Model 3 Standard Range Plus                       195490   \n",
      "40          Tesla           Model 3 Long Range                       235490   \n",
      "41          Tesla          Model 3 Performance                       260490   \n",
      "47     Volkswagen         ID.3 Pro Performance                       155890   \n",
      "48     Volkswagen                   ID.3 Pro S                       179990   \n",
      "49     Volkswagen                     ID.4 1st                       202390   \n",
      "\n",
      "    Range (WLTP) [km]  Battery capacity [kWh]  \n",
      "0                 438                    95.0  \n",
      "8                 460                    80.0  \n",
      "15                449                    64.0  \n",
      "18                455                    64.0  \n",
      "20                452                    64.0  \n",
      "22                414                    80.0  \n",
      "39                430                    54.0  \n",
      "40                580                    75.0  \n",
      "41                567                    75.0  \n",
      "47                425                    58.0  \n",
      "48                549                    77.0  \n",
      "49                500                    77.0  \n"
     ]
    }
   ],
   "source": [
    "## Your task is to filter out EVs that meet these criteria.\n",
    "filtered_evs = df[\n",
    "    (df[\"Minimal price (gross) [PLN]\"] <= 350000) & \n",
    "    (df[\"Range (WLTP) [km]\"] >= 400)\n",
    "]\n",
    "print(\"Filtered EVs by Budget and Range:\")\n",
    "print(filtered_evs[[\"Make\", \"Model\", \"Minimal price (gross) [PLN]\", \"Range (WLTP) [km]\",\"Battery capacity [kWh]\"]])"
   ]
  },
  {
   "cell_type": "code",
   "execution_count": 9,
   "id": "16c18462-c790-4d86-9b38-93ae20c46bc1",
   "metadata": {},
   "outputs": [
    {
     "name": "stdout",
     "output_type": "stream",
     "text": [
      "\n",
      "Grouped EVs by Manufacturer:\n",
      "Manufacturer: Audi\n",
      "               Model  Minimal price (gross) [PLN]  Range (WLTP) [km]  \\\n",
      "0  e-tron 55 quattro                       345700                438   \n",
      "\n",
      "   Battery capacity [kWh]  \n",
      "0                    95.0  \n",
      "Manufacturer: BMW\n",
      "  Model  Minimal price (gross) [PLN]  Range (WLTP) [km]  \\\n",
      "8   iX3                       282900                460   \n",
      "\n",
      "   Battery capacity [kWh]  \n",
      "8                    80.0  \n",
      "Manufacturer: Hyundai\n",
      "                  Model  Minimal price (gross) [PLN]  Range (WLTP) [km]  \\\n",
      "15  Kona electric 64kWh                       178400                449   \n",
      "\n",
      "    Battery capacity [kWh]  \n",
      "15                    64.0  \n",
      "Manufacturer: Kia\n",
      "           Model  Minimal price (gross) [PLN]  Range (WLTP) [km]  \\\n",
      "18  e-Niro 64kWh                       167990                455   \n",
      "20  e-Soul 64kWh                       160990                452   \n",
      "\n",
      "    Battery capacity [kWh]  \n",
      "18                    64.0  \n",
      "20                    64.0  \n",
      "Manufacturer: Mercedes-Benz\n",
      "   Model  Minimal price (gross) [PLN]  Range (WLTP) [km]  \\\n",
      "22   EQC                       334700                414   \n",
      "\n",
      "    Battery capacity [kWh]  \n",
      "22                    80.0  \n",
      "Manufacturer: Tesla\n",
      "                          Model  Minimal price (gross) [PLN]  \\\n",
      "39  Model 3 Standard Range Plus                       195490   \n",
      "40           Model 3 Long Range                       235490   \n",
      "41          Model 3 Performance                       260490   \n",
      "\n",
      "    Range (WLTP) [km]  Battery capacity [kWh]  \n",
      "39                430                    54.0  \n",
      "40                580                    75.0  \n",
      "41                567                    75.0  \n",
      "Manufacturer: Volkswagen\n",
      "                   Model  Minimal price (gross) [PLN]  Range (WLTP) [km]  \\\n",
      "47  ID.3 Pro Performance                       155890                425   \n",
      "48            ID.3 Pro S                       179990                549   \n",
      "49              ID.4 1st                       202390                500   \n",
      "\n",
      "    Battery capacity [kWh]  \n",
      "47                    58.0  \n",
      "48                    77.0  \n",
      "49                    77.0  \n"
     ]
    }
   ],
   "source": [
    "# Part b: Group filtered EVs by manufacturer\n",
    "grouped_by_make = filtered_evs.groupby(\"Make\")\n",
    "\n",
    "# Display grouped data\n",
    "print(\"\\nGrouped EVs by Manufacturer:\")\n",
    "for make, group in grouped_by_make:\n",
    "    print(f\"Manufacturer: {make}\")\n",
    "    print(group[[\"Model\", \"Minimal price (gross) [PLN]\", \"Range (WLTP) [km]\", \"Battery capacity [kWh]\"]])\n",
    "\n"
   ]
  },
  {
   "cell_type": "code",
   "execution_count": 10,
   "id": "35b91621-4450-4adb-9e24-8f0193aaae12",
   "metadata": {},
   "outputs": [
    {
     "name": "stdout",
     "output_type": "stream",
     "text": [
      "\n",
      "Average Battery Capacity for Each Manufacturer:\n",
      "    Manufacturer  Average Battery Capacity (kWh)\n",
      "0           Audi                       95.000000\n",
      "1            BMW                       80.000000\n",
      "2        Hyundai                       64.000000\n",
      "3            Kia                       64.000000\n",
      "4  Mercedes-Benz                       80.000000\n",
      "5          Tesla                       68.000000\n",
      "6     Volkswagen                       70.666667\n"
     ]
    }
   ],
   "source": [
    "## # Part c: Calculate average battery capacity for each manufacturer\n",
    "average_battery_capacity = (\n",
    "    filtered_evs.groupby(\"Make\")[\"Battery capacity [kWh]\"]\n",
    "    .mean()\n",
    "    .reset_index()\n",
    ")\n",
    "\n",
    "# Renaming columns for clarity\n",
    "average_battery_capacity.columns = [\"Manufacturer\", \"Average Battery Capacity (kWh)\"]\n",
    "\n",
    "# Display the results\n",
    "print(\"\\nAverage Battery Capacity for Each Manufacturer:\")\n",
    "print(average_battery_capacity)\n"
   ]
  },
  {
   "cell_type": "markdown",
   "id": "c13abe00-e6f5-4d8a-a661-6f9822eb58ef",
   "metadata": {},
   "source": [
    "## Task 2: You suspect some EVs have unusually high or low energy consumption. "
   ]
  },
  {
   "cell_type": "code",
   "execution_count": 12,
   "id": "1daab10d-0411-4611-8e77-3e2c2180aa04",
   "metadata": {},
   "outputs": [
    {
     "name": "stdout",
     "output_type": "stream",
     "text": [
      "No outliers detected in the 'mean - Energy consumption [kWh/100 km]' column.\n",
      "\n",
      "Lower Bound: 3.75, Upper Bound: 35.35\n"
     ]
    }
   ],
   "source": [
    "## Find the outliers in the mean - Energy consumption [kWh/100 km] column\n",
    "# Calculate the IQR to detect outliers\n",
    "q1 = df[\"mean - Energy consumption [kWh/100 km]\"].quantile(0.25)\n",
    "q2 = df[\"mean - Energy consumption [kWh/100 km]\"].quantile(0.75)\n",
    "iqr = q2 - q1\n",
    "\n",
    "# Define lower and upper bounds for outliers\n",
    "lower_bound = q1 - 1.5 * iqr\n",
    "upper_bound = q2 + 1.5 * iqr\n",
    "\n",
    "# Filter out the outliers\n",
    "outliers = df[\n",
    "    (df[\"mean - Energy consumption [kWh/100 km]\"] < lower_bound) | \n",
    "    (df[\"mean - Energy consumption [kWh/100 km]\"] > upper_bound)\n",
    "]\n",
    "\n",
    "# Check if the DataFrame is empty and display appropriate message\n",
    "if outliers.empty:\n",
    "    print(\"No outliers detected in the 'mean - Energy consumption [kWh/100 km]' column.\")\n",
    "else:\n",
    "    print(\"Outliers in mean Energy Consumption [kWh/100 km]:\")\n",
    "    print(outliers[[\"Make\", \"Model\", \"mean - Energy consumption [kWh/100 km]\"]])\n",
    "\n",
    "# Display bounds for reference\n",
    "print(f\"\\nLower Bound: {lower_bound:.2f}, Upper Bound: {upper_bound:.2f}\")\n"
   ]
  },
  {
   "cell_type": "markdown",
   "id": "c9a2e1d7-f6c7-4d86-ba76-72cc798ff5d8",
   "metadata": {},
   "source": [
    "## Task 3: Your manager wants to know if there's a strong relationship between battery capacity and range."
   ]
  },
  {
   "cell_type": "code",
   "execution_count": 14,
   "id": "aea4971c-7b16-4891-9216-87ee233d79a1",
   "metadata": {},
   "outputs": [
    {
     "data": {
      "image/png": "[encoded data removed]",
      "text/plain": [
       "<Figure size 1000x600 with 1 Axes>"
      ]
     },
     "metadata": {},
     "output_type": "display_data"
    }
   ],
   "source": [
    "## a) Create a suitable plot to visualize\n",
    "plt.figure(figsize=(10, 6))\n",
    "sns.scatterplot( x=\"Battery capacity [kWh]\", y=\"Range (WLTP) [km]\",data=df,hue=\"Make\",  palette=\"tab10\",alpha=0.7)\n",
    "# Add labels and title\n",
    "plt.title(\"Relationship Between Battery Capacity and Range\")\n",
    "plt.xlabel(\"Battery Capacity [kWh]\", )\n",
    "plt.ylabel(\"Range (WLTP) [km]\", )\n",
    "plt.grid(True)\n",
    "plt.legend(title=\"Manufacturer\", bbox_to_anchor=(1.05, 1), loc='upper left')\n",
    "plt.tight_layout()\n",
    "plt.show() # Display the plot\n"
   ]
  },
  {
   "cell_type": "code",
   "execution_count": 15,
   "id": "42adc180-746f-4981-8274-12290bca29ff",
   "metadata": {},
   "outputs": [
    {
     "name": "stdout",
     "output_type": "stream",
     "text": [
      "Correlation between Battery Capacity and Range: 0.81\n"
     ]
    }
   ],
   "source": [
    "# Part b: Insights\n",
    "# Correlation calculation to quantify the relationship\n",
    "correlation = df[\"Battery capacity [kWh]\"].corr(df[\"Range (WLTP) [km]\"])\n",
    "print(f\"Correlation between Battery Capacity and Range: {correlation:.2f}\")"
   ]
  },
  {
   "cell_type": "markdown",
   "id": "77948c1e-fcfe-4b70-a825-57a1ac1c16c4",
   "metadata": {},
   "source": [
    "## Task 4: Build an EV recommendation class. "
   ]
  },
  {
   "cell_type": "code",
   "execution_count": 17,
   "id": "16013fea-ff79-4f9a-b5ae-c2ff5df32a62",
   "metadata": {},
   "outputs": [
    {
     "name": "stdout",
     "output_type": "stream",
     "text": [
      "Top 3 EV Recommendations:\n",
      "          Make                Model  Minimal price (gross) [PLN]  \\\n",
      "40       Tesla   Model 3 Long Range                       235490   \n",
      "41       Tesla  Model 3 Performance                       260490   \n",
      "48  Volkswagen           ID.3 Pro S                       179990   \n",
      "\n",
      "    Range (WLTP) [km]  Battery capacity [kWh]  \n",
      "40                580                    75.0  \n",
      "41                567                    75.0  \n",
      "48                549                    77.0  \n"
     ]
    }
   ],
   "source": [
    "##The class should allow users to input their budget, desired range, and battery capacity\n",
    "## The class should then return the top three EVs matching their criteria. \n",
    "class EVRecommendation:\n",
    "    def __init__(self, data):\n",
    "        \"\"\"\n",
    "        Initializes the EVRecommendation class with a dataset.\n",
    "        :param data: DataFrame containing EV details\n",
    "        \"\"\"\n",
    "        self.data = data\n",
    "\n",
    "    def recommend(self, budget, desired_range, battery_capacity):\n",
    "        \n",
    "        # Filter EVs based on user criteria\n",
    "        filtered_evs = self.data[\n",
    "            (self.data[\"Minimal price (gross) [PLN]\"] <= budget) &\n",
    "            (self.data[\"Range (WLTP) [km]\"] >= desired_range) &\n",
    "            (self.data[\"Battery capacity [kWh]\"] >= battery_capacity)\n",
    "        ]\n",
    "\n",
    "        # Sort by range, then price (ascending)\n",
    "        filtered_evs = filtered_evs.sort_values(\n",
    "            by=[\"Range (WLTP) [km]\", \"Minimal price (gross) [PLN]\"],\n",
    "            ascending=[False, True]\n",
    "        )\n",
    "\n",
    "        # Return the top three EVs\n",
    "        return filtered_evs.head(3)\n",
    "\n",
    "# Usage\n",
    "# Instantiate the class with the dataset\n",
    "ev_recommender = EVRecommendation(df)\n",
    "\n",
    "# User criteria\n",
    "user_budget = 350000\n",
    "user_desired_range = 400\n",
    "user_battery_capacity = 50\n",
    "\n",
    "# Get recommendations\n",
    "recommendations = ev_recommender.recommend(user_budget, user_desired_range, user_battery_capacity)\n",
    "\n",
    "# Display the recommendations\n",
    "print(\"Top 3 EV Recommendations:\")\n",
    "print(recommendations[[\"Make\", \"Model\", \"Minimal price (gross) [PLN]\", \"Range (WLTP) [km]\", \"Battery capacity [kWh]\"]])\n"
   ]
  },
  {
   "cell_type": "markdown",
   "id": "4c5cafa1-616c-4a23-8a53-37c6b2564277",
   "metadata": {},
   "source": [
    "## Task 5: Inferential Statistics – Hypothesis Testing:"
   ]
  },
  {
   "cell_type": "code",
   "execution_count": 19,
   "id": "85487e91-3821-4129-abf6-c2ea00ccfa54",
   "metadata": {},
   "outputs": [
    {
     "name": "stdout",
     "output_type": "stream",
     "text": [
      "Two-Sample T-Test Results\n",
      "T-Statistic: 1.79\n",
      "P-Value: 0.1068\n",
      "We fail to reject the null hypothesis. because There is no significant difference in the average Engine power [KM] of Tesla and Audi vehicles.\n"
     ]
    }
   ],
   "source": [
    "from scipy.stats import ttest_ind\n",
    "# Filter data for Tesla and Audi\n",
    "tesla_data = df[df[\"Make\"] == \"Tesla\"][\"Engine power [KM]\"]\n",
    "audi_data = df[df[\"Make\"] == \"Audi\"][\"Engine power [KM]\"]\n",
    "\n",
    "# Perform a two-sample t-test\n",
    "t_stat, p_value = ttest_ind(tesla_data, audi_data, equal_var=False)  # Assuming unequal variances\n",
    "\n",
    "# Display results\n",
    "print(\"Two-Sample T-Test Results\")\n",
    "print(f\"T-Statistic: {t_stat:.2f}\")\n",
    "print(f\"P-Value: {p_value:.4f}\")\n",
    "\n",
    "# Significance level\n",
    "alpha = 0.05\n",
    "if p_value < alpha:\n",
    "    print(\"We reject the null hypothesis. because There is a significant difference in the average Engine power [KM] of Tesla and Audi vehicles.\")\n",
    "else:\n",
    "    print(\"We fail to reject the null hypothesis. because There is no significant difference in the average Engine power [KM] of Tesla and Audi vehicles.\")\n"
   ]
  },
  {
   "cell_type": "markdown",
   "id": "b2057c77-099b-4bc1-8fa7-42f3a5940bf8",
   "metadata": {},
   "source": [
    "video link- https://drive.google.com/file/d/1cKvrpvHd8Lsux-hxhMG-9wvz2Y_B4o6Z/view?usp=sharing"
   ]
  },
  {
   "cell_type": "code",
   "execution_count": null,
   "id": "33b3ec77-8a67-461d-8daf-dfd9446a651c",
   "metadata": {},
   "outputs": [],
   "source": []
  }
 ],
 "metadata": {
  "kernelspec": {
   "display_name": "Python 3 (ipykernel)",
   "language": "python",
   "name": "python3"
  },
  "language_info": {
   "codemirror_mode": {
    "name": "ipython",
    "version": 3
   },
   "file_extension": ".py",
   "mimetype": "text/x-python",
   "name": "python",
   "nbconvert_exporter": "python",
   "pygments_lexer": "ipython3",
   "version": "3.12.4"
  }
 },
 "nbformat": 4,
 "nbformat_minor": 5
}
